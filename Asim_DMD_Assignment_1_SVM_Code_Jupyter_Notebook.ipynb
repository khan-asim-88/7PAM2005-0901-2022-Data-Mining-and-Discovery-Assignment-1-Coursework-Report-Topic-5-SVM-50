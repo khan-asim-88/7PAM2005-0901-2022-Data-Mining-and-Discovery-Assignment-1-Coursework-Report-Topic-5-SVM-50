{
 "cells": [
  {
   "cell_type": "markdown",
   "metadata": {
    "papermill": {
     "duration": 0.065066,
     "end_time": "2021-06-11T10:12:31.415207",
     "exception": false,
     "start_time": "2021-06-11T10:12:31.350141",
     "status": "completed"
    },
    "tags": []
   },
   "source": [
    "## Importing Relavant Libraries"
   ]
  },
  {
   "cell_type": "code",
   "execution_count": 1,
   "metadata": {
    "execution": {
     "iopub.execute_input": "2021-06-11T10:12:31.721473Z",
     "iopub.status.busy": "2021-06-11T10:12:31.720832Z",
     "iopub.status.idle": "2021-06-11T10:12:33.974289Z",
     "shell.execute_reply": "2021-06-11T10:12:33.973666Z"
    },
    "id": "a_gIUvDguYEa",
    "papermill": {
     "duration": 2.319443,
     "end_time": "2021-06-11T10:12:33.974460",
     "exception": false,
     "start_time": "2021-06-11T10:12:31.655017",
     "status": "completed"
    },
    "tags": []
   },
   "outputs": [],
   "source": [
    "# Importing modules\n",
    "import numpy as np\n",
    "import pandas as pd\n",
    "import seaborn as sns\n",
    "import matplotlib.pyplot as plt\n",
    "\n",
    "from sklearn.svm import SVC\n",
    "from imblearn.over_sampling import SMOTE\n",
    "from sklearn.metrics import accuracy_score\n",
    "from sklearn.metrics import plot_roc_curve\n",
    "from sklearn.metrics import plot_confusion_matrix\n",
    "from sklearn.metrics import classification_report\n",
    "from sklearn.model_selection import train_test_split\n",
    "\n",
    "# Setting environment to ignore future warnings\n",
    "import warnings\n",
    "warnings.simplefilter('ignore')\n",
    "\n",
    "# Default figure size for EDA\n",
    "from matplotlib.pylab import rcParams\n",
    "rcParams[\"figure.figsize\"] = (14, 5)"
   ]
  },
  {
   "cell_type": "markdown",
   "metadata": {
    "papermill": {
     "duration": 0.062694,
     "end_time": "2021-06-11T10:12:34.235230",
     "exception": false,
     "start_time": "2021-06-11T10:12:34.172536",
     "status": "completed"
    },
    "tags": []
   },
   "source": [
    "## Reading Dataset"
   ]
  },
  {
   "cell_type": "code",
   "execution_count": 2,
   "metadata": {
    "execution": {
     "iopub.execute_input": "2021-06-11T10:12:34.367007Z",
     "iopub.status.busy": "2021-06-11T10:12:34.366126Z",
     "iopub.status.idle": "2021-06-11T10:12:34.537174Z",
     "shell.execute_reply": "2021-06-11T10:12:34.537678Z"
    },
    "id": "pgsMN2xIfERj",
    "papermill": {
     "duration": 0.238898,
     "end_time": "2021-06-11T10:12:34.537858",
     "exception": false,
     "start_time": "2021-06-11T10:12:34.298960",
     "status": "completed"
    },
    "tags": []
   },
   "outputs": [
    {
     "name": "stdout",
     "output_type": "stream",
     "text": [
      "   age          workclass  fnlwgt   education  education.num  \\\n",
      "0   50   Self-emp-not-inc   83311   Bachelors             13   \n",
      "1   38            Private  215646     HS-grad              9   \n",
      "2   53            Private  234721        11th              7   \n",
      "3   28            Private  338409   Bachelors             13   \n",
      "4   37            Private  284582     Masters             14   \n",
      "\n",
      "        marital.status          occupation    relationship    race      sex  \\\n",
      "0   Married-civ-spouse     Exec-managerial         Husband   White     Male   \n",
      "1             Divorced   Handlers-cleaners   Not-in-family   White     Male   \n",
      "2   Married-civ-spouse   Handlers-cleaners         Husband   Black     Male   \n",
      "3   Married-civ-spouse      Prof-specialty            Wife   Black   Female   \n",
      "4   Married-civ-spouse     Exec-managerial            Wife   White   Female   \n",
      "\n",
      "   capital.gain  capital.loss  hours.per.week  native.country  income  \n",
      "0             0             0              13   United-States   <=50K  \n",
      "1             0             0              40   United-States   <=50K  \n",
      "2             0             0              40   United-States   <=50K  \n",
      "3             0             0              40            Cuba   <=50K  \n",
      "4             0             0              40   United-States   <=50K  \n"
     ]
    }
   ],
   "source": [
    "# Columns of dataset\n",
    "columns = ['age', 'workclass', 'fnlwgt', 'education', 'education.num',\n",
    "       'marital.status', 'occupation', 'relationship', 'race', 'sex',\n",
    "       'capital.gain', 'capital.loss', 'hours.per.week', 'native.country', 'income']\n",
    "\n",
    "# Reading dataset\n",
    "df=pd.read_csv(\"adult.data\")\n",
    "\n",
    "# Assigning Column to data\n",
    "df.columns = columns\n",
    "\n",
    "# Printing data\n",
    "print(df.head())"
   ]
  },
  {
   "cell_type": "code",
   "execution_count": 3,
   "metadata": {
    "execution": {
     "iopub.execute_input": "2021-06-11T10:12:34.672689Z",
     "iopub.status.busy": "2021-06-11T10:12:34.672029Z",
     "iopub.status.idle": "2021-06-11T10:12:34.674823Z",
     "shell.execute_reply": "2021-06-11T10:12:34.675325Z"
    },
    "papermill": {
     "duration": 0.07262,
     "end_time": "2021-06-11T10:12:34.675495",
     "exception": false,
     "start_time": "2021-06-11T10:12:34.602875",
     "status": "completed"
    },
    "tags": []
   },
   "outputs": [
    {
     "name": "stdout",
     "output_type": "stream",
     "text": [
      "Shape of data  (32560, 15)\n"
     ]
    }
   ],
   "source": [
    "print(\"Shape of data \", df.shape)"
   ]
  },
  {
   "cell_type": "code",
   "execution_count": 4,
   "metadata": {
    "execution": {
     "iopub.execute_input": "2021-06-11T10:12:34.939264Z",
     "iopub.status.busy": "2021-06-11T10:12:34.938577Z",
     "iopub.status.idle": "2021-06-11T10:12:34.983940Z",
     "shell.execute_reply": "2021-06-11T10:12:34.984651Z"
    },
    "id": "FUuR-vKhfJM4",
    "outputId": "b24857df-45ef-452c-f066-ba141403bfae",
    "papermill": {
     "duration": 0.116738,
     "end_time": "2021-06-11T10:12:34.984891",
     "exception": false,
     "start_time": "2021-06-11T10:12:34.868153",
     "status": "completed"
    },
    "tags": []
   },
   "outputs": [
    {
     "name": "stdout",
     "output_type": "stream",
     "text": [
      "<class 'pandas.core.frame.DataFrame'>\n",
      "RangeIndex: 32560 entries, 0 to 32559\n",
      "Data columns (total 15 columns):\n",
      " #   Column          Non-Null Count  Dtype \n",
      "---  ------          --------------  ----- \n",
      " 0   age             32560 non-null  int64 \n",
      " 1   workclass       32560 non-null  object\n",
      " 2   fnlwgt          32560 non-null  int64 \n",
      " 3   education       32560 non-null  object\n",
      " 4   education.num   32560 non-null  int64 \n",
      " 5   marital.status  32560 non-null  object\n",
      " 6   occupation      32560 non-null  object\n",
      " 7   relationship    32560 non-null  object\n",
      " 8   race            32560 non-null  object\n",
      " 9   sex             32560 non-null  object\n",
      " 10  capital.gain    32560 non-null  int64 \n",
      " 11  capital.loss    32560 non-null  int64 \n",
      " 12  hours.per.week  32560 non-null  int64 \n",
      " 13  native.country  32560 non-null  object\n",
      " 14  income          32560 non-null  object\n",
      "dtypes: int64(6), object(9)\n",
      "memory usage: 3.7+ MB\n"
     ]
    }
   ],
   "source": [
    "# Identification of variables and data types\n",
    "df.info()"
   ]
  },
  {
   "cell_type": "markdown",
   "metadata": {
    "papermill": {
     "duration": 0.065455,
     "end_time": "2021-06-11T10:12:35.414580",
     "exception": false,
     "start_time": "2021-06-11T10:12:35.349125",
     "status": "completed"
    },
    "tags": []
   },
   "source": [
    "## Data Cleaning"
   ]
  },
  {
   "cell_type": "code",
   "execution_count": 5,
   "metadata": {
    "execution": {
     "iopub.execute_input": "2021-06-11T10:12:35.708395Z",
     "iopub.status.busy": "2021-06-11T10:12:35.707720Z",
     "iopub.status.idle": "2021-06-11T10:12:35.715135Z",
     "shell.execute_reply": "2021-06-11T10:12:35.714444Z"
    },
    "papermill": {
     "duration": 0.103159,
     "end_time": "2021-06-11T10:12:35.715282",
     "exception": false,
     "start_time": "2021-06-11T10:12:35.612123",
     "status": "completed"
    },
    "tags": []
   },
   "outputs": [
    {
     "name": "stdout",
     "output_type": "stream",
     "text": [
      "Null values  0\n"
     ]
    }
   ],
   "source": [
    "print(\"Null values \", df.isnull().sum().sum())"
   ]
  },
  {
   "cell_type": "code",
   "execution_count": 6,
   "metadata": {
    "execution": {
     "iopub.execute_input": "2021-06-11T10:12:37.487772Z",
     "iopub.status.busy": "2021-06-11T10:12:37.487065Z",
     "iopub.status.idle": "2021-06-11T10:12:37.527903Z",
     "shell.execute_reply": "2021-06-11T10:12:37.528422Z"
    },
    "id": "KGvC2LhMEVUY",
    "outputId": "f01150ef-8d3c-468f-c51d-692033531faf",
    "papermill": {
     "duration": 0.11245,
     "end_time": "2021-06-11T10:12:37.528610",
     "exception": false,
     "start_time": "2021-06-11T10:12:37.416160",
     "status": "completed"
    },
    "tags": []
   },
   "outputs": [
    {
     "name": "stdout",
     "output_type": "stream",
     "text": [
      "Duplicated rows  24\n"
     ]
    }
   ],
   "source": [
    "# Checking for duplicates\n",
    "print(\"Duplicated rows \", df.duplicated().sum())"
   ]
  },
  {
   "cell_type": "code",
   "execution_count": 7,
   "metadata": {
    "execution": {
     "iopub.execute_input": "2021-06-11T10:12:37.868144Z",
     "iopub.status.busy": "2021-06-11T10:12:37.867474Z",
     "iopub.status.idle": "2021-06-11T10:12:37.906405Z",
     "shell.execute_reply": "2021-06-11T10:12:37.906952Z"
    },
    "id": "e74xN4ZCEuq-",
    "papermill": {
     "duration": 0.112724,
     "end_time": "2021-06-11T10:12:37.907158",
     "exception": false,
     "start_time": "2021-06-11T10:12:37.794434",
     "status": "completed"
    },
    "tags": []
   },
   "outputs": [],
   "source": [
    "# Dropping duplicate values\n",
    "df.drop_duplicates(inplace=True)"
   ]
  },
  {
   "cell_type": "markdown",
   "metadata": {
    "papermill": {
     "duration": 0.07151,
     "end_time": "2021-06-11T10:12:39.110635",
     "exception": false,
     "start_time": "2021-06-11T10:12:39.039125",
     "status": "completed"
    },
    "tags": []
   },
   "source": [
    "## Data Analysis + Preprocessing"
   ]
  },
  {
   "cell_type": "code",
   "execution_count": 8,
   "metadata": {
    "execution": {
     "iopub.execute_input": "2021-06-11T10:12:39.411174Z",
     "iopub.status.busy": "2021-06-11T10:12:39.410101Z",
     "iopub.status.idle": "2021-06-11T10:12:39.412491Z",
     "shell.execute_reply": "2021-06-11T10:12:39.412991Z"
    },
    "papermill": {
     "duration": 0.079982,
     "end_time": "2021-06-11T10:12:39.413162",
     "exception": false,
     "start_time": "2021-06-11T10:12:39.333180",
     "status": "completed"
    },
    "tags": []
   },
   "outputs": [],
   "source": [
    "# Function to show percentage on bars\n",
    "def per_on_bar(plot,feature):\n",
    "    total = len(feature)\n",
    "    for p in plot.patches:\n",
    "        percentage = '{:.1f}%'.format(100 * p.get_height()/total)\n",
    "        x = p.get_x() + p.get_width() / 2 - 0.08\n",
    "        y = p.get_y() + p.get_height()\n",
    "        ax.annotate(percentage, (x, y), size = 12)\n",
    "    plt.show()"
   ]
  },
  {
   "cell_type": "markdown",
   "metadata": {
    "papermill": {
     "duration": 0.070179,
     "end_time": "2021-06-11T10:12:39.558868",
     "exception": false,
     "start_time": "2021-06-11T10:12:39.488689",
     "status": "completed"
    },
    "tags": []
   },
   "source": [
    "#### Univariate Analysis"
   ]
  },
  {
   "cell_type": "code",
   "execution_count": 9,
   "metadata": {
    "execution": {
     "iopub.execute_input": "2021-06-11T10:12:39.705974Z",
     "iopub.status.busy": "2021-06-11T10:12:39.705021Z",
     "iopub.status.idle": "2021-06-11T10:12:39.873626Z",
     "shell.execute_reply": "2021-06-11T10:12:39.873120Z"
    },
    "id": "ZsokFNCdzUzi",
    "outputId": "67030ee1-0649-449c-a6da-9a84bf61fdf4",
    "papermill": {
     "duration": 0.244038,
     "end_time": "2021-06-11T10:12:39.873777",
     "exception": false,
     "start_time": "2021-06-11T10:12:39.629739",
     "status": "completed"
    },
    "tags": []
   },
   "outputs": [
    {
     "data": {
      "image/png": "[encoded data removed]",
      "text/plain": [
       "<Figure size 1008x360 with 1 Axes>"
      ]
     },
     "metadata": {
      "needs_background": "light"
     },
     "output_type": "display_data"
    }
   ],
   "source": [
    "# Checking target variable\n",
    "ax = sns.countplot(df.income)\n",
    "per_on_bar(ax, df.income)"
   ]
  },
  {
   "cell_type": "code",
   "execution_count": 10,
   "metadata": {
    "execution": {
     "iopub.execute_input": "2021-06-11T10:12:40.340102Z",
     "iopub.status.busy": "2021-06-11T10:12:40.339128Z",
     "iopub.status.idle": "2021-06-11T10:12:40.344062Z",
     "shell.execute_reply": "2021-06-11T10:12:40.343435Z"
    },
    "id": "cs_l7IOgydIr",
    "outputId": "1ddfef95-fdac-4071-c27d-f3797d54e908",
    "papermill": {
     "duration": 0.082989,
     "end_time": "2021-06-11T10:12:40.344197",
     "exception": false,
     "start_time": "2021-06-11T10:12:40.261208",
     "status": "completed"
    },
    "tags": []
   },
   "outputs": [
    {
     "name": "stdout",
     "output_type": "stream",
     "text": [
      "['workclass', 'education', 'marital.status', 'occupation', 'relationship', 'race', 'sex', 'native.country', 'income']\n",
      "['age', 'fnlwgt', 'education.num', 'capital.gain', 'capital.loss', 'hours.per.week']\n"
     ]
    }
   ],
   "source": [
    "#separating the numerical and categorical variables \n",
    "cat_var=[x for x in df.columns if df[x].dtype==\"O\"]\n",
    "print(cat_var)\n",
    "num_var=[x for x in df.columns if x not in cat_var]\n",
    "print(num_var)"
   ]
  },
  {
   "cell_type": "markdown",
   "metadata": {
    "papermill": {
     "duration": 0.080242,
     "end_time": "2021-06-11T10:12:40.496256",
     "exception": false,
     "start_time": "2021-06-11T10:12:40.416014",
     "status": "completed"
    },
    "tags": []
   },
   "source": [
    "#### Graphical Representation of Categorical Features"
   ]
  },
  {
   "cell_type": "code",
   "execution_count": 11,
   "metadata": {
    "execution": {
     "iopub.execute_input": "2021-06-11T10:12:40.665902Z",
     "iopub.status.busy": "2021-06-11T10:12:40.664987Z",
     "iopub.status.idle": "2021-06-11T10:12:40.891387Z",
     "shell.execute_reply": "2021-06-11T10:12:40.890845Z"
    },
    "papermill": {
     "duration": 0.322402,
     "end_time": "2021-06-11T10:12:40.891521",
     "exception": false,
     "start_time": "2021-06-11T10:12:40.569119",
     "status": "completed"
    },
    "tags": []
   },
   "outputs": [
    {
     "data": {
      "image/png": "[encoded data removed]",
      "text/plain": [
       "<Figure size 1008x360 with 1 Axes>"
      ]
     },
     "metadata": {
      "needs_background": "light"
     },
     "output_type": "display_data"
    }
   ],
   "source": [
    "ax = sns.countplot(df[cat_var[0]])\n",
    "per_on_bar(ax, df[cat_var[0]])"
   ]
  },
  {
   "cell_type": "code",
   "execution_count": 12,
   "metadata": {
    "execution": {
     "iopub.execute_input": "2021-06-11T10:12:41.206980Z",
     "iopub.status.busy": "2021-06-11T10:12:41.202464Z",
     "iopub.status.idle": "2021-06-11T10:12:41.531579Z",
     "shell.execute_reply": "2021-06-11T10:12:41.530950Z"
    },
    "papermill": {
     "duration": 0.420298,
     "end_time": "2021-06-11T10:12:41.531721",
     "exception": false,
     "start_time": "2021-06-11T10:12:41.111423",
     "status": "completed"
    },
    "scrolled": false,
    "tags": []
   },
   "outputs": [
    {
     "data": {
      "image/png": "[encoded data removed]",
      "text/plain": [
       "<Figure size 1008x360 with 1 Axes>"
      ]
     },
     "metadata": {
      "needs_background": "light"
     },
     "output_type": "display_data"
    }
   ],
   "source": [
    "plt.xticks(rotation=90)\n",
    "ax = sns.countplot(df[cat_var[1]])\n",
    "per_on_bar(ax, df[cat_var[1]])"
   ]
  },
  {
   "cell_type": "code",
   "execution_count": 13,
   "metadata": {
    "execution": {
     "iopub.execute_input": "2021-06-11T10:12:41.871315Z",
     "iopub.status.busy": "2021-06-11T10:12:41.870640Z",
     "iopub.status.idle": "2021-06-11T10:12:42.107561Z",
     "shell.execute_reply": "2021-06-11T10:12:42.106881Z"
    },
    "papermill": {
     "duration": 0.338507,
     "end_time": "2021-06-11T10:12:42.107709",
     "exception": false,
     "start_time": "2021-06-11T10:12:41.769202",
     "status": "completed"
    },
    "tags": []
   },
   "outputs": [
    {
     "data": {
      "image/png": "[encoded data removed]",
      "text/plain": [
       "<Figure size 1008x360 with 1 Axes>"
      ]
     },
     "metadata": {
      "needs_background": "light"
     },
     "output_type": "display_data"
    }
   ],
   "source": [
    "plt.xticks(rotation=90)\n",
    "ax = sns.countplot(df[cat_var[2]])\n",
    "per_on_bar(ax, df[cat_var[2]])"
   ]
  },
  {
   "cell_type": "markdown",
   "metadata": {
    "papermill": {
     "duration": 0.080353,
     "end_time": "2021-06-11T10:12:42.266129",
     "exception": false,
     "start_time": "2021-06-11T10:12:42.185776",
     "status": "completed"
    },
    "tags": []
   },
   "source": [
    "Most of the people were married and with the spouse and then next were the people who were single all the time."
   ]
  },
  {
   "cell_type": "code",
   "execution_count": 14,
   "metadata": {
    "execution": {
     "iopub.execute_input": "2021-06-11T10:12:42.442756Z",
     "iopub.status.busy": "2021-06-11T10:12:42.441659Z",
     "iopub.status.idle": "2021-06-11T10:12:42.807576Z",
     "shell.execute_reply": "2021-06-11T10:12:42.807024Z"
    },
    "papermill": {
     "duration": 0.463692,
     "end_time": "2021-06-11T10:12:42.807725",
     "exception": false,
     "start_time": "2021-06-11T10:12:42.344033",
     "status": "completed"
    },
    "tags": []
   },
   "outputs": [
    {
     "data": {
      "image/png": "[encoded data removed]",
      "text/plain": [
       "<Figure size 1008x360 with 1 Axes>"
      ]
     },
     "metadata": {
      "needs_background": "light"
     },
     "output_type": "display_data"
    }
   ],
   "source": [
    "plt.xticks(rotation=90)\n",
    "ax = sns.countplot(df[cat_var[3]])\n",
    "per_on_bar(ax, df[cat_var[3]])"
   ]
  },
  {
   "cell_type": "markdown",
   "metadata": {
    "papermill": {
     "duration": 0.079125,
     "end_time": "2021-06-11T10:12:42.964301",
     "exception": false,
     "start_time": "2021-06-11T10:12:42.885176",
     "status": "completed"
    },
    "tags": []
   },
   "source": [
    "Most of the people were Engineer, Professor and Craft-Repair.\n",
    "\n",
    "But the interesting is that there were very less number of peoples who joined Armed-Forces."
   ]
  },
  {
   "cell_type": "code",
   "execution_count": 15,
   "metadata": {
    "execution": {
     "iopub.execute_input": "2021-06-11T10:12:43.174282Z",
     "iopub.status.busy": "2021-06-11T10:12:43.142674Z",
     "iopub.status.idle": "2021-06-11T10:12:43.367638Z",
     "shell.execute_reply": "2021-06-11T10:12:43.366454Z"
    },
    "papermill": {
     "duration": 0.323537,
     "end_time": "2021-06-11T10:12:43.367820",
     "exception": false,
     "start_time": "2021-06-11T10:12:43.044283",
     "status": "completed"
    },
    "tags": []
   },
   "outputs": [
    {
     "data": {
      "image/png": "[encoded data removed]",
      "text/plain": [
       "<Figure size 1008x360 with 1 Axes>"
      ]
     },
     "metadata": {
      "needs_background": "light"
     },
     "output_type": "display_data"
    }
   ],
   "source": [
    "plt.xticks(rotation=90)\n",
    "ax = sns.countplot(df[cat_var[4]])\n",
    "per_on_bar(ax, df[cat_var[4]])"
   ]
  },
  {
   "cell_type": "markdown",
   "metadata": {
    "papermill": {
     "duration": 0.080789,
     "end_time": "2021-06-11T10:12:43.529536",
     "exception": false,
     "start_time": "2021-06-11T10:12:43.448747",
     "status": "completed"
    },
    "tags": []
   },
   "source": [
    "Mostly people were having relationship with Husband"
   ]
  },
  {
   "cell_type": "code",
   "execution_count": 16,
   "metadata": {
    "execution": {
     "iopub.execute_input": "2021-06-11T10:12:43.759957Z",
     "iopub.status.busy": "2021-06-11T10:12:43.759225Z",
     "iopub.status.idle": "2021-06-11T10:12:43.939672Z",
     "shell.execute_reply": "2021-06-11T10:12:43.940161Z"
    },
    "papermill": {
     "duration": 0.328647,
     "end_time": "2021-06-11T10:12:43.940343",
     "exception": false,
     "start_time": "2021-06-11T10:12:43.611696",
     "status": "completed"
    },
    "tags": []
   },
   "outputs": [
    {
     "data": {
      "image/png": "[encoded data removed]",
      "text/plain": [
       "<Figure size 1008x360 with 1 Axes>"
      ]
     },
     "metadata": {
      "needs_background": "light"
     },
     "output_type": "display_data"
    }
   ],
   "source": [
    "plt.xticks(rotation=90)\n",
    "ax = sns.countplot(df[cat_var[5]])\n",
    "per_on_bar(ax, df[cat_var[5]])"
   ]
  },
  {
   "cell_type": "markdown",
   "metadata": {
    "papermill": {
     "duration": 0.081513,
     "end_time": "2021-06-11T10:12:44.103711",
     "exception": false,
     "start_time": "2021-06-11T10:12:44.022198",
     "status": "completed"
    },
    "tags": []
   },
   "source": [
    "By the race almost 85% people were white because it's the data from USA Census."
   ]
  },
  {
   "cell_type": "code",
   "execution_count": 17,
   "metadata": {
    "execution": {
     "iopub.execute_input": "2021-06-11T10:12:44.318226Z",
     "iopub.status.busy": "2021-06-11T10:12:44.317411Z",
     "iopub.status.idle": "2021-06-11T10:12:44.441581Z",
     "shell.execute_reply": "2021-06-11T10:12:44.441038Z"
    },
    "papermill": {
     "duration": 0.257185,
     "end_time": "2021-06-11T10:12:44.441730",
     "exception": false,
     "start_time": "2021-06-11T10:12:44.184545",
     "status": "completed"
    },
    "tags": []
   },
   "outputs": [
    {
     "data": {
      "image/png": "[encoded data removed]",
      "text/plain": [
       "<Figure size 1008x360 with 1 Axes>"
      ]
     },
     "metadata": {
      "needs_background": "light"
     },
     "output_type": "display_data"
    }
   ],
   "source": [
    "plt.xticks(rotation=90)\n",
    "ax = sns.countplot(df[cat_var[6]])\n",
    "per_on_bar(ax, df[cat_var[6]])"
   ]
  },
  {
   "cell_type": "markdown",
   "metadata": {
    "papermill": {
     "duration": 0.080284,
     "end_time": "2021-06-11T10:12:44.602490",
     "exception": false,
     "start_time": "2021-06-11T10:12:44.522206",
     "status": "completed"
    },
    "tags": []
   },
   "source": [
    "Dataset consist of almost 67% Male."
   ]
  },
  {
   "cell_type": "code",
   "execution_count": 18,
   "metadata": {
    "execution": {
     "iopub.execute_input": "2021-06-11T10:12:44.792697Z",
     "iopub.status.busy": "2021-06-11T10:12:44.790725Z",
     "iopub.status.idle": "2021-06-11T10:12:45.565175Z",
     "shell.execute_reply": "2021-06-11T10:12:45.564372Z"
    },
    "papermill": {
     "duration": 0.878166,
     "end_time": "2021-06-11T10:12:45.565405",
     "exception": false,
     "start_time": "2021-06-11T10:12:44.687239",
     "status": "completed"
    },
    "tags": []
   },
   "outputs": [
    {
     "data": {
      "image/png": "[encoded data removed]",
      "text/plain": [
       "<Figure size 1008x360 with 1 Axes>"
      ]
     },
     "metadata": {
      "needs_background": "light"
     },
     "output_type": "display_data"
    }
   ],
   "source": [
    "plt.xticks(rotation=90)\n",
    "ax = sns.countplot(df[cat_var[7]])\n",
    "per_on_bar(ax, df[cat_var[7]])"
   ]
  },
  {
   "cell_type": "markdown",
   "metadata": {
    "papermill": {
     "duration": 0.082252,
     "end_time": "2021-06-11T10:12:45.730636",
     "exception": false,
     "start_time": "2021-06-11T10:12:45.648384",
     "status": "completed"
    },
    "tags": []
   },
   "source": [
    "**90%** people were natively from USA."
   ]
  },
  {
   "cell_type": "code",
   "execution_count": 19,
   "metadata": {
    "execution": {
     "iopub.execute_input": "2021-06-11T10:12:45.905801Z",
     "iopub.status.busy": "2021-06-11T10:12:45.905116Z",
     "iopub.status.idle": "2021-06-11T10:12:45.913377Z",
     "shell.execute_reply": "2021-06-11T10:12:45.912831Z"
    },
    "papermill": {
     "duration": 0.099576,
     "end_time": "2021-06-11T10:12:45.913512",
     "exception": false,
     "start_time": "2021-06-11T10:12:45.813936",
     "status": "completed"
    },
    "tags": []
   },
   "outputs": [],
   "source": [
    "# Replacing other than usa with non_usa to reduce the noice associated with it.\n",
    "df[\"native.country\"]=np.where((df[\"native.country\"]==\"United-States\"),\"usa\",\"non_usa\")"
   ]
  },
  {
   "cell_type": "code",
   "execution_count": 20,
   "metadata": {
    "execution": {
     "iopub.execute_input": "2021-06-11T10:12:46.251577Z",
     "iopub.status.busy": "2021-06-11T10:12:46.250533Z",
     "iopub.status.idle": "2021-06-11T10:12:46.547347Z",
     "shell.execute_reply": "2021-06-11T10:12:46.546805Z"
    },
    "papermill": {
     "duration": 0.383629,
     "end_time": "2021-06-11T10:12:46.547496",
     "exception": false,
     "start_time": "2021-06-11T10:12:46.163867",
     "status": "completed"
    },
    "tags": []
   },
   "outputs": [
    {
     "data": {
      "image/png": "[encoded data removed]",
      "text/plain": [
       "<Figure size 1008x360 with 1 Axes>"
      ]
     },
     "metadata": {
      "needs_background": "light"
     },
     "output_type": "display_data"
    }
   ],
   "source": [
    "plt.title(cat_var[0])\n",
    "sns.countplot(y=df[cat_var[0]],hue=df[\"income\"])\n",
    "plt.show()"
   ]
  },
  {
   "cell_type": "markdown",
   "metadata": {
    "papermill": {
     "duration": 0.091473,
     "end_time": "2021-06-11T10:12:50.141217",
     "exception": false,
     "start_time": "2021-06-11T10:12:50.049744",
     "status": "completed"
    },
    "tags": []
   },
   "source": [
    "Because most of the people were **White** so they are also taking High Income."
   ]
  },
  {
   "cell_type": "code",
   "execution_count": 21,
   "metadata": {
    "execution": {
     "iopub.execute_input": "2021-06-11T10:12:50.323841Z",
     "iopub.status.busy": "2021-06-11T10:12:50.323175Z",
     "iopub.status.idle": "2021-06-11T10:12:50.520983Z",
     "shell.execute_reply": "2021-06-11T10:12:50.521506Z"
    },
    "papermill": {
     "duration": 0.291451,
     "end_time": "2021-06-11T10:12:50.521708",
     "exception": false,
     "start_time": "2021-06-11T10:12:50.230257",
     "status": "completed"
    },
    "tags": []
   },
   "outputs": [
    {
     "data": {
      "image/png": "[encoded data removed]",
      "text/plain": [
       "<Figure size 1008x360 with 1 Axes>"
      ]
     },
     "metadata": {
      "needs_background": "light"
     },
     "output_type": "display_data"
    }
   ],
   "source": [
    "plt.title(cat_var[7])\n",
    "sns.countplot(y=df[cat_var[7]],hue=df[\"income\"])\n",
    "plt.show()"
   ]
  },
  {
   "cell_type": "markdown",
   "metadata": {
    "papermill": {
     "duration": 0.095584,
     "end_time": "2021-06-11T10:12:50.715133",
     "exception": false,
     "start_time": "2021-06-11T10:12:50.619549",
     "status": "completed"
    },
    "tags": []
   },
   "source": [
    "#### Conclusion"
   ]
  },
  {
   "cell_type": "markdown",
   "metadata": {
    "papermill": {
     "duration": 0.102995,
     "end_time": "2021-06-11T10:12:50.918549",
     "exception": false,
     "start_time": "2021-06-11T10:12:50.815554",
     "status": "completed"
    },
    "tags": []
   },
   "source": [
    "**Following were Generating More Income**\n",
    "- Private sector in Workclass\n",
    "- Bachelors in education\n",
    "- Married civ spouse in marital Status\n",
    "- Executive managers are getting high income and professors speciality by Occupation \n",
    "- Husbands in Relationship\n",
    "- White having both low and high income \n",
    "- Male in Sex\n",
    "- People from usa."
   ]
  },
  {
   "cell_type": "code",
   "execution_count": 27,
   "metadata": {},
   "outputs": [],
   "source": [
    "# Encoding features\n",
    "from sklearn.preprocessing import LabelEncoder\n",
    "encoder = LabelEncoder()\n",
    "\n",
    "df_new = df.copy()\n",
    "for i in df.select_dtypes(\"O\").columns[:-1]:\n",
    "    df_new[i] = encoder.fit_transform(df_new[i])"
   ]
  },
  {
   "cell_type": "code",
   "execution_count": 28,
   "metadata": {
    "execution": {
     "iopub.execute_input": "2021-06-11T10:14:40.721158Z",
     "iopub.status.busy": "2021-06-11T10:14:40.720251Z",
     "iopub.status.idle": "2021-06-11T10:14:41.002378Z",
     "shell.execute_reply": "2021-06-11T10:14:41.002960Z"
    },
    "id": "uF2F341wY9Xm",
    "papermill": {
     "duration": 0.571963,
     "end_time": "2021-06-11T10:14:41.003340",
     "exception": false,
     "start_time": "2021-06-11T10:14:40.431377",
     "status": "completed"
    },
    "tags": []
   },
   "outputs": [],
   "source": [
    "# Balancing data\n",
    "X, y = SMOTE().fit_resample(df_new.drop(\"income\",axis=1), df_new.income)"
   ]
  },
  {
   "cell_type": "markdown",
   "metadata": {
    "papermill": {
     "duration": 0.270854,
     "end_time": "2021-06-11T10:14:44.420285",
     "exception": false,
     "start_time": "2021-06-11T10:14:44.149431",
     "status": "completed"
    },
    "tags": []
   },
   "source": [
    "## Model Building"
   ]
  },
  {
   "cell_type": "code",
   "execution_count": 29,
   "metadata": {
    "execution": {
     "iopub.execute_input": "2021-06-11T10:14:45.544389Z",
     "iopub.status.busy": "2021-06-11T10:14:45.543595Z",
     "iopub.status.idle": "2021-06-11T10:14:45.554720Z",
     "shell.execute_reply": "2021-06-11T10:14:45.554134Z"
    },
    "id": "4znAd1vyw1dT",
    "papermill": {
     "duration": 0.292458,
     "end_time": "2021-06-11T10:14:45.554885",
     "exception": false,
     "start_time": "2021-06-11T10:14:45.262427",
     "status": "completed"
    },
    "tags": []
   },
   "outputs": [],
   "source": [
    "# Splitting data into Train, Test part\n",
    "X_train, X_test, y_train, y_test = train_test_split(X, y, test_size=0.25, random_state=42)"
   ]
  },
  {
   "cell_type": "code",
   "execution_count": 30,
   "metadata": {
    "execution": {
     "iopub.execute_input": "2021-06-11T10:14:46.104705Z",
     "iopub.status.busy": "2021-06-11T10:14:46.103333Z",
     "iopub.status.idle": "2021-06-11T10:14:53.221224Z",
     "shell.execute_reply": "2021-06-11T10:14:53.221752Z"
    },
    "id": "cqFwVLtBkq8A",
    "outputId": "666450fb-2469-44a6-e82a-45e3e0e10548",
    "papermill": {
     "duration": 7.39856,
     "end_time": "2021-06-11T10:14:53.221948",
     "exception": false,
     "start_time": "2021-06-11T10:14:45.823388",
     "status": "completed"
    },
    "tags": []
   },
   "outputs": [
    {
     "name": "stdout",
     "output_type": "stream",
     "text": [
      "Test Accuracy  0.5900072880395174\n"
     ]
    }
   ],
   "source": [
    "# Training SVM\n",
    "classifier = SVC()\n",
    "classifier.fit(X_train,y_train)\n",
    "print(\"Test Accuracy \", classifier.score(X_test,y_test))"
   ]
  },
  {
   "cell_type": "code",
   "execution_count": 31,
   "metadata": {},
   "outputs": [],
   "source": [
    "# Making Prediction on test data\n",
    "y_pred = classifier.predict(X_test)"
   ]
  },
  {
   "cell_type": "code",
   "execution_count": 32,
   "metadata": {},
   "outputs": [
    {
     "name": "stdout",
     "output_type": "stream",
     "text": [
      "              precision    recall  f1-score   support\n",
      "\n",
      "       <=50K       0.55      0.99      0.71      6180\n",
      "        >50K       0.94      0.19      0.32      6169\n",
      "\n",
      "    accuracy                           0.59     12349\n",
      "   macro avg       0.74      0.59      0.51     12349\n",
      "weighted avg       0.74      0.59      0.51     12349\n",
      "\n"
     ]
    }
   ],
   "source": [
    "print(classification_report(y_test, y_pred))"
   ]
  },
  {
   "cell_type": "code",
   "execution_count": 33,
   "metadata": {
    "scrolled": false
   },
   "outputs": [
    {
     "data": {
      "text/plain": [
       "[]"
      ]
     },
     "execution_count": 33,
     "metadata": {},
     "output_type": "execute_result"
    },
    {
     "data": {
      "image/png": "[encoded data removed]",
      "text/plain": [
       "<Figure size 1008x360 with 2 Axes>"
      ]
     },
     "metadata": {
      "needs_background": "light"
     },
     "output_type": "display_data"
    }
   ],
   "source": [
    "plot_confusion_matrix(classifier, X_train, y_train)\n",
    "plt.plot()"
   ]
  }
 ],
 "metadata": {
  "kernelspec": {
   "display_name": "Python 3",
   "language": "python",
   "name": "python3"
  },
  "language_info": {
   "codemirror_mode": {
    "name": "ipython",
    "version": 3
   },
   "file_extension": ".py",
   "mimetype": "text/x-python",
   "name": "python",
   "nbconvert_exporter": "python",
   "pygments_lexer": "ipython3",
   "version": "3.8.5"
  },
  "papermill": {
   "default_parameters": {},
   "duration": 166.293969,
   "end_time": "2021-06-11T10:15:09.260117",
   "environment_variables": {},
   "exception": null,
   "input_path": "__notebook__.ipynb",
   "output_path": "__notebook__.ipynb",
   "parameters": {},
   "start_time": "2021-06-11T10:12:22.966148",
   "version": "2.3.3"
  },
  "widgets": {
   "application/vnd.jupyter.widget-state+json": {
    "state": {
     "06d7d660d27343b9a94240bb1a0aea11": {
      "model_module": "@jupyter-widgets/controls",
      "model_module_version": "1.5.0",
      "model_name": "ProgressStyleModel",
      "state": {
       "_model_module": "@jupyter-widgets/controls",
       "_model_module_version": "1.5.0",
       "_model_name": "ProgressStyleModel",
       "_view_count": null,
       "_view_module": "@jupyter-widgets/base",
       "_view_module_version": "1.2.0",
       "_view_name": "StyleView",
       "bar_color": null,
       "description_width": ""
      }
     },
     "086e1a5e04ce4263915bdaf273325938": {
      "model_module": "@jupyter-widgets/controls",
      "model_module_version": "1.5.0",
      "model_name": "FloatProgressModel",
      "state": {
       "_dom_classes": [],
       "_model_module": "@jupyter-widgets/controls",
       "_model_module_version": "1.5.0",
       "_model_name": "FloatProgressModel",
       "_view_count": null,
       "_view_module": "@jupyter-widgets/controls",
       "_view_module_version": "1.5.0",
       "_view_name": "ProgressView",
       "bar_style": "success",
       "description": "",
       "description_tooltip": null,
       "layout": "IPY_MODEL_39e4426717b242b5aa42a5b274a99d2c",
       "max": 1,
       "min": 0,
       "orientation": "horizontal",
       "style": "IPY_MODEL_c3e507bd03c44b2d8745275cfee9af57",
       "value": 1
      }
     },
     "0a0f496f10754e44a9270eb57f2bfe8e": {
      "model_module": "@jupyter-widgets/controls",
      "model_module_version": "1.5.0",
      "model_name": "HBoxModel",
      "state": {
       "_dom_classes": [],
       "_model_module": "@jupyter-widgets/controls",
       "_model_module_version": "1.5.0",
       "_model_name": "HBoxModel",
       "_view_count": null,
       "_view_module": "@jupyter-widgets/controls",
       "_view_module_version": "1.5.0",
       "_view_name": "HBoxView",
       "box_style": "",
       "children": [
        "IPY_MODEL_8b0469084ba94e85ae2d3c86513202d3",
        "IPY_MODEL_086e1a5e04ce4263915bdaf273325938",
        "IPY_MODEL_0a6397c3f0f64722b91cd774f20d596e"
       ],
       "layout": "IPY_MODEL_9a50823d16ae429e8eab33cdc3306cc4"
      }
     },
     "0a6397c3f0f64722b91cd774f20d596e": {
      "model_module": "@jupyter-widgets/controls",
      "model_module_version": "1.5.0",
      "model_name": "HTMLModel",
      "state": {
       "_dom_classes": [],
       "_model_module": "@jupyter-widgets/controls",
       "_model_module_version": "1.5.0",
       "_model_name": "HTMLModel",
       "_view_count": null,
       "_view_module": "@jupyter-widgets/controls",
       "_view_module_version": "1.5.0",
       "_view_name": "HTMLView",
       "description": "",
       "description_tooltip": null,
       "layout": "IPY_MODEL_d6e7ae98394d45d2a39ba705914f42bc",
       "placeholder": "​",
       "style": "IPY_MODEL_de8bd4b75cf345f190a161f296996652",
       "value": " 1/1 [00:02&lt;00:00,  2.71s/it]"
      }
     },
     "0b742b36085942c583499584ad99f477": {
      "model_module": "@jupyter-widgets/controls",
      "model_module_version": "1.5.0",
      "model_name": "HBoxModel",
      "state": {
       "_dom_classes": [],
       "_model_module": "@jupyter-widgets/controls",
       "_model_module_version": "1.5.0",
       "_model_name": "HBoxModel",
       "_view_count": null,
       "_view_module": "@jupyter-widgets/controls",
       "_view_module_version": "1.5.0",
       "_view_name": "HBoxView",
       "box_style": "",
       "children": [
        "IPY_MODEL_cfa90cfb5cdd48e897ce905bb927255a",
        "IPY_MODEL_99b6b432dc6d46a48d58f372647df101",
        "IPY_MODEL_7cd5070ac959465b849629647fe4fadf"
       ],
       "layout": "IPY_MODEL_1b7e5ed498c04e81b793af9203d85a0a"
      }
     },
     "11d20ca409304cc1aceb1058a7fea831": {
      "model_module": "@jupyter-widgets/controls",
      "model_module_version": "1.5.0",
      "model_name": "FloatProgressModel",
      "state": {
       "_dom_classes": [],
       "_model_module": "@jupyter-widgets/controls",
       "_model_module_version": "1.5.0",
       "_model_name": "FloatProgressModel",
       "_view_count": null,
       "_view_module": "@jupyter-widgets/controls",
       "_view_module_version": "1.5.0",
       "_view_name": "ProgressView",
       "bar_style": "success",
       "description": "",
       "description_tooltip": null,
       "layout": "IPY_MODEL_70ed7c129cb44f7abc0bc5d2455fb46d",
       "max": 1,
       "min": 0,
       "orientation": "horizontal",
       "style": "IPY_MODEL_06d7d660d27343b9a94240bb1a0aea11",
       "value": 1
      }
     },
     "1b7e5ed498c04e81b793af9203d85a0a": {
      "model_module": "@jupyter-widgets/base",
      "model_module_version": "1.2.0",
      "model_name": "LayoutModel",
      "state": {
       "_model_module": "@jupyter-widgets/base",
       "_model_module_version": "1.2.0",
       "_model_name": "LayoutModel",
       "_view_count": null,
       "_view_module": "@jupyter-widgets/base",
       "_view_module_version": "1.2.0",
       "_view_name": "LayoutView",
       "align_content": null,
       "align_items": null,
       "align_self": null,
       "border": null,
       "bottom": null,
       "display": null,
       "flex": null,
       "flex_flow": null,
       "grid_area": null,
       "grid_auto_columns": null,
       "grid_auto_flow": null,
       "grid_auto_rows": null,
       "grid_column": null,
       "grid_gap": null,
       "grid_row": null,
       "grid_template_areas": null,
       "grid_template_columns": null,
       "grid_template_rows": null,
       "height": null,
       "justify_content": null,
       "justify_items": null,
       "left": null,
       "margin": null,
       "max_height": null,
       "max_width": null,
       "min_height": null,
       "min_width": null,
       "object_fit": null,
       "object_position": null,
       "order": null,
       "overflow": null,
       "overflow_x": null,
       "overflow_y": null,
       "padding": null,
       "right": null,
       "top": null,
       "visibility": null,
       "width": null
      }
     },
     "1bf6a9f1fa634f09813672215e615ea2": {
      "model_module": "@jupyter-widgets/controls",
      "model_module_version": "1.5.0",
      "model_name": "DescriptionStyleModel",
      "state": {
       "_model_module": "@jupyter-widgets/controls",
       "_model_module_version": "1.5.0",
       "_model_name": "DescriptionStyleModel",
       "_view_count": null,
       "_view_module": "@jupyter-widgets/base",
       "_view_module_version": "1.2.0",
       "_view_name": "StyleView",
       "description_width": ""
      }
     },
     "20c7673c804e4a54b3b3c366da8fd792": {
      "model_module": "@jupyter-widgets/base",
      "model_module_version": "1.2.0",
      "model_name": "LayoutModel",
      "state": {
       "_model_module": "@jupyter-widgets/base",
       "_model_module_version": "1.2.0",
       "_model_name": "LayoutModel",
       "_view_count": null,
       "_view_module": "@jupyter-widgets/base",
       "_view_module_version": "1.2.0",
       "_view_name": "LayoutView",
       "align_content": null,
       "align_items": null,
       "align_self": null,
       "border": null,
       "bottom": null,
       "display": null,
       "flex": null,
       "flex_flow": null,
       "grid_area": null,
       "grid_auto_columns": null,
       "grid_auto_flow": null,
       "grid_auto_rows": null,
       "grid_column": null,
       "grid_gap": null,
       "grid_row": null,
       "grid_template_areas": null,
       "grid_template_columns": null,
       "grid_template_rows": null,
       "height": null,
       "justify_content": null,
       "justify_items": null,
       "left": null,
       "margin": null,
       "max_height": null,
       "max_width": null,
       "min_height": null,
       "min_width": null,
       "object_fit": null,
       "object_position": null,
       "order": null,
       "overflow": null,
       "overflow_x": null,
       "overflow_y": null,
       "padding": null,
       "right": null,
       "top": null,
       "visibility": null,
       "width": null
      }
     },
     "2539f13cec9a4ce088e452527f9ad092": {
      "model_module": "@jupyter-widgets/controls",
      "model_module_version": "1.5.0",
      "model_name": "DescriptionStyleModel",
      "state": {
       "_model_module": "@jupyter-widgets/controls",
       "_model_module_version": "1.5.0",
       "_model_name": "DescriptionStyleModel",
       "_view_count": null,
       "_view_module": "@jupyter-widgets/base",
       "_view_module_version": "1.2.0",
       "_view_name": "StyleView",
       "description_width": ""
      }
     },
     "380aa5b7b462478c88d8f5f35d7c7f69": {
      "model_module": "@jupyter-widgets/controls",
      "model_module_version": "1.5.0",
      "model_name": "DescriptionStyleModel",
      "state": {
       "_model_module": "@jupyter-widgets/controls",
       "_model_module_version": "1.5.0",
       "_model_name": "DescriptionStyleModel",
       "_view_count": null,
       "_view_module": "@jupyter-widgets/base",
       "_view_module_version": "1.2.0",
       "_view_name": "StyleView",
       "description_width": ""
      }
     },
     "393b8cd69d8c4101812bb0b9f1144d36": {
      "model_module": "@jupyter-widgets/base",
      "model_module_version": "1.2.0",
      "model_name": "LayoutModel",
      "state": {
       "_model_module": "@jupyter-widgets/base",
       "_model_module_version": "1.2.0",
       "_model_name": "LayoutModel",
       "_view_count": null,
       "_view_module": "@jupyter-widgets/base",
       "_view_module_version": "1.2.0",
       "_view_name": "LayoutView",
       "align_content": null,
       "align_items": null,
       "align_self": null,
       "border": null,
       "bottom": null,
       "display": null,
       "flex": null,
       "flex_flow": null,
       "grid_area": null,
       "grid_auto_columns": null,
       "grid_auto_flow": null,
       "grid_auto_rows": null,
       "grid_column": null,
       "grid_gap": null,
       "grid_row": null,
       "grid_template_areas": null,
       "grid_template_columns": null,
       "grid_template_rows": null,
       "height": null,
       "justify_content": null,
       "justify_items": null,
       "left": null,
       "margin": null,
       "max_height": null,
       "max_width": null,
       "min_height": null,
       "min_width": null,
       "object_fit": null,
       "object_position": null,
       "order": null,
       "overflow": null,
       "overflow_x": null,
       "overflow_y": null,
       "padding": null,
       "right": null,
       "top": null,
       "visibility": null,
       "width": null
      }
     },
     "39e4426717b242b5aa42a5b274a99d2c": {
      "model_module": "@jupyter-widgets/base",
      "model_module_version": "1.2.0",
      "model_name": "LayoutModel",
      "state": {
       "_model_module": "@jupyter-widgets/base",
       "_model_module_version": "1.2.0",
       "_model_name": "LayoutModel",
       "_view_count": null,
       "_view_module": "@jupyter-widgets/base",
       "_view_module_version": "1.2.0",
       "_view_name": "LayoutView",
       "align_content": null,
       "align_items": null,
       "align_self": null,
       "border": null,
       "bottom": null,
       "display": null,
       "flex": null,
       "flex_flow": null,
       "grid_area": null,
       "grid_auto_columns": null,
       "grid_auto_flow": null,
       "grid_auto_rows": null,
       "grid_column": null,
       "grid_gap": null,
       "grid_row": null,
       "grid_template_areas": null,
       "grid_template_columns": null,
       "grid_template_rows": null,
       "height": null,
       "justify_content": null,
       "justify_items": null,
       "left": null,
       "margin": null,
       "max_height": null,
       "max_width": null,
       "min_height": null,
       "min_width": null,
       "object_fit": null,
       "object_position": null,
       "order": null,
       "overflow": null,
       "overflow_x": null,
       "overflow_y": null,
       "padding": null,
       "right": null,
       "top": null,
       "visibility": null,
       "width": null
      }
     },
     "3f21fd80992a49d098875b8afe8bc368": {
      "model_module": "@jupyter-widgets/controls",
      "model_module_version": "1.5.0",
      "model_name": "FloatProgressModel",
      "state": {
       "_dom_classes": [],
       "_model_module": "@jupyter-widgets/controls",
       "_model_module_version": "1.5.0",
       "_model_name": "FloatProgressModel",
       "_view_count": null,
       "_view_module": "@jupyter-widgets/controls",
       "_view_module_version": "1.5.0",
       "_view_name": "ProgressView",
       "bar_style": "success",
       "description": "",
       "description_tooltip": null,
       "layout": "IPY_MODEL_fe7511d37a1044f1a652e9fb9c404887",
       "max": 29,
       "min": 0,
       "orientation": "horizontal",
       "style": "IPY_MODEL_49e60af8db9f4021922c90c0ffcd1c12",
       "value": 29
      }
     },
     "49e60af8db9f4021922c90c0ffcd1c12": {
      "model_module": "@jupyter-widgets/controls",
      "model_module_version": "1.5.0",
      "model_name": "ProgressStyleModel",
      "state": {
       "_model_module": "@jupyter-widgets/controls",
       "_model_module_version": "1.5.0",
       "_model_name": "ProgressStyleModel",
       "_view_count": null,
       "_view_module": "@jupyter-widgets/base",
       "_view_module_version": "1.2.0",
       "_view_name": "StyleView",
       "bar_color": null,
       "description_width": ""
      }
     },
     "542d3ef2098848398ea01f79f7ccdc5b": {
      "model_module": "@jupyter-widgets/controls",
      "model_module_version": "1.5.0",
      "model_name": "DescriptionStyleModel",
      "state": {
       "_model_module": "@jupyter-widgets/controls",
       "_model_module_version": "1.5.0",
       "_model_name": "DescriptionStyleModel",
       "_view_count": null,
       "_view_module": "@jupyter-widgets/base",
       "_view_module_version": "1.2.0",
       "_view_name": "StyleView",
       "description_width": ""
      }
     },
     "5618d88d9a6949dd9b125136aaa62306": {
      "model_module": "@jupyter-widgets/base",
      "model_module_version": "1.2.0",
      "model_name": "LayoutModel",
      "state": {
       "_model_module": "@jupyter-widgets/base",
       "_model_module_version": "1.2.0",
       "_model_name": "LayoutModel",
       "_view_count": null,
       "_view_module": "@jupyter-widgets/base",
       "_view_module_version": "1.2.0",
       "_view_name": "LayoutView",
       "align_content": null,
       "align_items": null,
       "align_self": null,
       "border": null,
       "bottom": null,
       "display": null,
       "flex": null,
       "flex_flow": null,
       "grid_area": null,
       "grid_auto_columns": null,
       "grid_auto_flow": null,
       "grid_auto_rows": null,
       "grid_column": null,
       "grid_gap": null,
       "grid_row": null,
       "grid_template_areas": null,
       "grid_template_columns": null,
       "grid_template_rows": null,
       "height": null,
       "justify_content": null,
       "justify_items": null,
       "left": null,
       "margin": null,
       "max_height": null,
       "max_width": null,
       "min_height": null,
       "min_width": null,
       "object_fit": null,
       "object_position": null,
       "order": null,
       "overflow": null,
       "overflow_x": null,
       "overflow_y": null,
       "padding": null,
       "right": null,
       "top": null,
       "visibility": null,
       "width": null
      }
     },
     "69ac93004bb140aba7d45a256c1a37bf": {
      "model_module": "@jupyter-widgets/controls",
      "model_module_version": "1.5.0",
      "model_name": "HTMLModel",
      "state": {
       "_dom_classes": [],
       "_model_module": "@jupyter-widgets/controls",
       "_model_module_version": "1.5.0",
       "_model_name": "HTMLModel",
       "_view_count": null,
       "_view_module": "@jupyter-widgets/controls",
       "_view_module_version": "1.5.0",
       "_view_name": "HTMLView",
       "description": "",
       "description_tooltip": null,
       "layout": "IPY_MODEL_faf9142d358f4232a0c2a3f60b1b0e8f",
       "placeholder": "​",
       "style": "IPY_MODEL_2539f13cec9a4ce088e452527f9ad092",
       "value": "Export report to file: 100%"
      }
     },
     "70ed7c129cb44f7abc0bc5d2455fb46d": {
      "model_module": "@jupyter-widgets/base",
      "model_module_version": "1.2.0",
      "model_name": "LayoutModel",
      "state": {
       "_model_module": "@jupyter-widgets/base",
       "_model_module_version": "1.2.0",
       "_model_name": "LayoutModel",
       "_view_count": null,
       "_view_module": "@jupyter-widgets/base",
       "_view_module_version": "1.2.0",
       "_view_name": "LayoutView",
       "align_content": null,
       "align_items": null,
       "align_self": null,
       "border": null,
       "bottom": null,
       "display": null,
       "flex": null,
       "flex_flow": null,
       "grid_area": null,
       "grid_auto_columns": null,
       "grid_auto_flow": null,
       "grid_auto_rows": null,
       "grid_column": null,
       "grid_gap": null,
       "grid_row": null,
       "grid_template_areas": null,
       "grid_template_columns": null,
       "grid_template_rows": null,
       "height": null,
       "justify_content": null,
       "justify_items": null,
       "left": null,
       "margin": null,
       "max_height": null,
       "max_width": null,
       "min_height": null,
       "min_width": null,
       "object_fit": null,
       "object_position": null,
       "order": null,
       "overflow": null,
       "overflow_x": null,
       "overflow_y": null,
       "padding": null,
       "right": null,
       "top": null,
       "visibility": null,
       "width": null
      }
     },
     "716bdec42add46d1844957cfadba7132": {
      "model_module": "@jupyter-widgets/controls",
      "model_module_version": "1.5.0",
      "model_name": "HBoxModel",
      "state": {
       "_dom_classes": [],
       "_model_module": "@jupyter-widgets/controls",
       "_model_module_version": "1.5.0",
       "_model_name": "HBoxModel",
       "_view_count": null,
       "_view_module": "@jupyter-widgets/controls",
       "_view_module_version": "1.5.0",
       "_view_name": "HBoxView",
       "box_style": "",
       "children": [
        "IPY_MODEL_8e6da4e6bdc34d7699d557dadbc5b6cd",
        "IPY_MODEL_3f21fd80992a49d098875b8afe8bc368",
        "IPY_MODEL_d07e21cc88e44ce28603a80e93c84c7c"
       ],
       "layout": "IPY_MODEL_b7c6f1f1fdc840a98a5affa5942bcee1"
      }
     },
     "76fa107066a84d2a9feb8c3fdac07c3c": {
      "model_module": "@jupyter-widgets/controls",
      "model_module_version": "1.5.0",
      "model_name": "DescriptionStyleModel",
      "state": {
       "_model_module": "@jupyter-widgets/controls",
       "_model_module_version": "1.5.0",
       "_model_name": "DescriptionStyleModel",
       "_view_count": null,
       "_view_module": "@jupyter-widgets/base",
       "_view_module_version": "1.2.0",
       "_view_name": "StyleView",
       "description_width": ""
      }
     },
     "7cd5070ac959465b849629647fe4fadf": {
      "model_module": "@jupyter-widgets/controls",
      "model_module_version": "1.5.0",
      "model_name": "HTMLModel",
      "state": {
       "_dom_classes": [],
       "_model_module": "@jupyter-widgets/controls",
       "_model_module_version": "1.5.0",
       "_model_name": "HTMLModel",
       "_view_count": null,
       "_view_module": "@jupyter-widgets/controls",
       "_view_module_version": "1.5.0",
       "_view_name": "HTMLView",
       "description": "",
       "description_tooltip": null,
       "layout": "IPY_MODEL_20c7673c804e4a54b3b3c366da8fd792",
       "placeholder": "​",
       "style": "IPY_MODEL_76fa107066a84d2a9feb8c3fdac07c3c",
       "value": " 1/1 [00:08&lt;00:00,  8.86s/it]"
      }
     },
     "8b0469084ba94e85ae2d3c86513202d3": {
      "model_module": "@jupyter-widgets/controls",
      "model_module_version": "1.5.0",
      "model_name": "HTMLModel",
      "state": {
       "_dom_classes": [],
       "_model_module": "@jupyter-widgets/controls",
       "_model_module_version": "1.5.0",
       "_model_name": "HTMLModel",
       "_view_count": null,
       "_view_module": "@jupyter-widgets/controls",
       "_view_module_version": "1.5.0",
       "_view_name": "HTMLView",
       "description": "",
       "description_tooltip": null,
       "layout": "IPY_MODEL_5618d88d9a6949dd9b125136aaa62306",
       "placeholder": "​",
       "style": "IPY_MODEL_542d3ef2098848398ea01f79f7ccdc5b",
       "value": "Render HTML: 100%"
      }
     },
     "8e6da4e6bdc34d7699d557dadbc5b6cd": {
      "model_module": "@jupyter-widgets/controls",
      "model_module_version": "1.5.0",
      "model_name": "HTMLModel",
      "state": {
       "_dom_classes": [],
       "_model_module": "@jupyter-widgets/controls",
       "_model_module_version": "1.5.0",
       "_model_name": "HTMLModel",
       "_view_count": null,
       "_view_module": "@jupyter-widgets/controls",
       "_view_module_version": "1.5.0",
       "_view_name": "HTMLView",
       "description": "",
       "description_tooltip": null,
       "layout": "IPY_MODEL_f35f744db380405e8fb3858a4167510b",
       "placeholder": "​",
       "style": "IPY_MODEL_c0fdb6b82f034f5a95d2320bbf24203a",
       "value": "Summarize dataset: 100%"
      }
     },
     "99b6b432dc6d46a48d58f372647df101": {
      "model_module": "@jupyter-widgets/controls",
      "model_module_version": "1.5.0",
      "model_name": "FloatProgressModel",
      "state": {
       "_dom_classes": [],
       "_model_module": "@jupyter-widgets/controls",
       "_model_module_version": "1.5.0",
       "_model_name": "FloatProgressModel",
       "_view_count": null,
       "_view_module": "@jupyter-widgets/controls",
       "_view_module_version": "1.5.0",
       "_view_name": "ProgressView",
       "bar_style": "success",
       "description": "",
       "description_tooltip": null,
       "layout": "IPY_MODEL_fee0dbb977734d2db6c43d79ee4d3825",
       "max": 1,
       "min": 0,
       "orientation": "horizontal",
       "style": "IPY_MODEL_e431a13e2e8945978f73e48f16d83e73",
       "value": 1
      }
     },
     "9a50823d16ae429e8eab33cdc3306cc4": {
      "model_module": "@jupyter-widgets/base",
      "model_module_version": "1.2.0",
      "model_name": "LayoutModel",
      "state": {
       "_model_module": "@jupyter-widgets/base",
       "_model_module_version": "1.2.0",
       "_model_name": "LayoutModel",
       "_view_count": null,
       "_view_module": "@jupyter-widgets/base",
       "_view_module_version": "1.2.0",
       "_view_name": "LayoutView",
       "align_content": null,
       "align_items": null,
       "align_self": null,
       "border": null,
       "bottom": null,
       "display": null,
       "flex": null,
       "flex_flow": null,
       "grid_area": null,
       "grid_auto_columns": null,
       "grid_auto_flow": null,
       "grid_auto_rows": null,
       "grid_column": null,
       "grid_gap": null,
       "grid_row": null,
       "grid_template_areas": null,
       "grid_template_columns": null,
       "grid_template_rows": null,
       "height": null,
       "justify_content": null,
       "justify_items": null,
       "left": null,
       "margin": null,
       "max_height": null,
       "max_width": null,
       "min_height": null,
       "min_width": null,
       "object_fit": null,
       "object_position": null,
       "order": null,
       "overflow": null,
       "overflow_x": null,
       "overflow_y": null,
       "padding": null,
       "right": null,
       "top": null,
       "visibility": null,
       "width": null
      }
     },
     "a197beeaef5a4d2d8bb47396775a11f2": {
      "model_module": "@jupyter-widgets/controls",
      "model_module_version": "1.5.0",
      "model_name": "DescriptionStyleModel",
      "state": {
       "_model_module": "@jupyter-widgets/controls",
       "_model_module_version": "1.5.0",
       "_model_name": "DescriptionStyleModel",
       "_view_count": null,
       "_view_module": "@jupyter-widgets/base",
       "_view_module_version": "1.2.0",
       "_view_name": "StyleView",
       "description_width": ""
      }
     },
     "aedaf4995a7f4473b4bd70e878a60403": {
      "model_module": "@jupyter-widgets/base",
      "model_module_version": "1.2.0",
      "model_name": "LayoutModel",
      "state": {
       "_model_module": "@jupyter-widgets/base",
       "_model_module_version": "1.2.0",
       "_model_name": "LayoutModel",
       "_view_count": null,
       "_view_module": "@jupyter-widgets/base",
       "_view_module_version": "1.2.0",
       "_view_name": "LayoutView",
       "align_content": null,
       "align_items": null,
       "align_self": null,
       "border": null,
       "bottom": null,
       "display": null,
       "flex": null,
       "flex_flow": null,
       "grid_area": null,
       "grid_auto_columns": null,
       "grid_auto_flow": null,
       "grid_auto_rows": null,
       "grid_column": null,
       "grid_gap": null,
       "grid_row": null,
       "grid_template_areas": null,
       "grid_template_columns": null,
       "grid_template_rows": null,
       "height": null,
       "justify_content": null,
       "justify_items": null,
       "left": null,
       "margin": null,
       "max_height": null,
       "max_width": null,
       "min_height": null,
       "min_width": null,
       "object_fit": null,
       "object_position": null,
       "order": null,
       "overflow": null,
       "overflow_x": null,
       "overflow_y": null,
       "padding": null,
       "right": null,
       "top": null,
       "visibility": null,
       "width": null
      }
     },
     "b7c6f1f1fdc840a98a5affa5942bcee1": {
      "model_module": "@jupyter-widgets/base",
      "model_module_version": "1.2.0",
      "model_name": "LayoutModel",
      "state": {
       "_model_module": "@jupyter-widgets/base",
       "_model_module_version": "1.2.0",
       "_model_name": "LayoutModel",
       "_view_count": null,
       "_view_module": "@jupyter-widgets/base",
       "_view_module_version": "1.2.0",
       "_view_name": "LayoutView",
       "align_content": null,
       "align_items": null,
       "align_self": null,
       "border": null,
       "bottom": null,
       "display": null,
       "flex": null,
       "flex_flow": null,
       "grid_area": null,
       "grid_auto_columns": null,
       "grid_auto_flow": null,
       "grid_auto_rows": null,
       "grid_column": null,
       "grid_gap": null,
       "grid_row": null,
       "grid_template_areas": null,
       "grid_template_columns": null,
       "grid_template_rows": null,
       "height": null,
       "justify_content": null,
       "justify_items": null,
       "left": null,
       "margin": null,
       "max_height": null,
       "max_width": null,
       "min_height": null,
       "min_width": null,
       "object_fit": null,
       "object_position": null,
       "order": null,
       "overflow": null,
       "overflow_x": null,
       "overflow_y": null,
       "padding": null,
       "right": null,
       "top": null,
       "visibility": null,
       "width": null
      }
     },
     "c0fdb6b82f034f5a95d2320bbf24203a": {
      "model_module": "@jupyter-widgets/controls",
      "model_module_version": "1.5.0",
      "model_name": "DescriptionStyleModel",
      "state": {
       "_model_module": "@jupyter-widgets/controls",
       "_model_module_version": "1.5.0",
       "_model_name": "DescriptionStyleModel",
       "_view_count": null,
       "_view_module": "@jupyter-widgets/base",
       "_view_module_version": "1.2.0",
       "_view_name": "StyleView",
       "description_width": ""
      }
     },
     "c3e507bd03c44b2d8745275cfee9af57": {
      "model_module": "@jupyter-widgets/controls",
      "model_module_version": "1.5.0",
      "model_name": "ProgressStyleModel",
      "state": {
       "_model_module": "@jupyter-widgets/controls",
       "_model_module_version": "1.5.0",
       "_model_name": "ProgressStyleModel",
       "_view_count": null,
       "_view_module": "@jupyter-widgets/base",
       "_view_module_version": "1.2.0",
       "_view_name": "StyleView",
       "bar_color": null,
       "description_width": ""
      }
     },
     "cea7ec9267ef415688529995e1409802": {
      "model_module": "@jupyter-widgets/base",
      "model_module_version": "1.2.0",
      "model_name": "LayoutModel",
      "state": {
       "_model_module": "@jupyter-widgets/base",
       "_model_module_version": "1.2.0",
       "_model_name": "LayoutModel",
       "_view_count": null,
       "_view_module": "@jupyter-widgets/base",
       "_view_module_version": "1.2.0",
       "_view_name": "LayoutView",
       "align_content": null,
       "align_items": null,
       "align_self": null,
       "border": null,
       "bottom": null,
       "display": null,
       "flex": null,
       "flex_flow": null,
       "grid_area": null,
       "grid_auto_columns": null,
       "grid_auto_flow": null,
       "grid_auto_rows": null,
       "grid_column": null,
       "grid_gap": null,
       "grid_row": null,
       "grid_template_areas": null,
       "grid_template_columns": null,
       "grid_template_rows": null,
       "height": null,
       "justify_content": null,
       "justify_items": null,
       "left": null,
       "margin": null,
       "max_height": null,
       "max_width": null,
       "min_height": null,
       "min_width": null,
       "object_fit": null,
       "object_position": null,
       "order": null,
       "overflow": null,
       "overflow_x": null,
       "overflow_y": null,
       "padding": null,
       "right": null,
       "top": null,
       "visibility": null,
       "width": null
      }
     },
     "cfa90cfb5cdd48e897ce905bb927255a": {
      "model_module": "@jupyter-widgets/controls",
      "model_module_version": "1.5.0",
      "model_name": "HTMLModel",
      "state": {
       "_dom_classes": [],
       "_model_module": "@jupyter-widgets/controls",
       "_model_module_version": "1.5.0",
       "_model_name": "HTMLModel",
       "_view_count": null,
       "_view_module": "@jupyter-widgets/controls",
       "_view_module_version": "1.5.0",
       "_view_name": "HTMLView",
       "description": "",
       "description_tooltip": null,
       "layout": "IPY_MODEL_dad0f9da9d5e4727a7f98a86c9a07e83",
       "placeholder": "​",
       "style": "IPY_MODEL_380aa5b7b462478c88d8f5f35d7c7f69",
       "value": "Generate report structure: 100%"
      }
     },
     "d07e21cc88e44ce28603a80e93c84c7c": {
      "model_module": "@jupyter-widgets/controls",
      "model_module_version": "1.5.0",
      "model_name": "HTMLModel",
      "state": {
       "_dom_classes": [],
       "_model_module": "@jupyter-widgets/controls",
       "_model_module_version": "1.5.0",
       "_model_name": "HTMLModel",
       "_view_count": null,
       "_view_module": "@jupyter-widgets/controls",
       "_view_module_version": "1.5.0",
       "_view_name": "HTMLView",
       "description": "",
       "description_tooltip": null,
       "layout": "IPY_MODEL_cea7ec9267ef415688529995e1409802",
       "placeholder": "​",
       "style": "IPY_MODEL_1bf6a9f1fa634f09813672215e615ea2",
       "value": " 29/29 [00:18&lt;00:00,  1.57s/it, Completed]"
      }
     },
     "d0eca080126f477597efebd7969af497": {
      "model_module": "@jupyter-widgets/controls",
      "model_module_version": "1.5.0",
      "model_name": "HBoxModel",
      "state": {
       "_dom_classes": [],
       "_model_module": "@jupyter-widgets/controls",
       "_model_module_version": "1.5.0",
       "_model_name": "HBoxModel",
       "_view_count": null,
       "_view_module": "@jupyter-widgets/controls",
       "_view_module_version": "1.5.0",
       "_view_name": "HBoxView",
       "box_style": "",
       "children": [
        "IPY_MODEL_69ac93004bb140aba7d45a256c1a37bf",
        "IPY_MODEL_11d20ca409304cc1aceb1058a7fea831",
        "IPY_MODEL_e08fdc8a1ac345439b494a37343c7367"
       ],
       "layout": "IPY_MODEL_aedaf4995a7f4473b4bd70e878a60403"
      }
     },
     "d6e7ae98394d45d2a39ba705914f42bc": {
      "model_module": "@jupyter-widgets/base",
      "model_module_version": "1.2.0",
      "model_name": "LayoutModel",
      "state": {
       "_model_module": "@jupyter-widgets/base",
       "_model_module_version": "1.2.0",
       "_model_name": "LayoutModel",
       "_view_count": null,
       "_view_module": "@jupyter-widgets/base",
       "_view_module_version": "1.2.0",
       "_view_name": "LayoutView",
       "align_content": null,
       "align_items": null,
       "align_self": null,
       "border": null,
       "bottom": null,
       "display": null,
       "flex": null,
       "flex_flow": null,
       "grid_area": null,
       "grid_auto_columns": null,
       "grid_auto_flow": null,
       "grid_auto_rows": null,
       "grid_column": null,
       "grid_gap": null,
       "grid_row": null,
       "grid_template_areas": null,
       "grid_template_columns": null,
       "grid_template_rows": null,
       "height": null,
       "justify_content": null,
       "justify_items": null,
       "left": null,
       "margin": null,
       "max_height": null,
       "max_width": null,
       "min_height": null,
       "min_width": null,
       "object_fit": null,
       "object_position": null,
       "order": null,
       "overflow": null,
       "overflow_x": null,
       "overflow_y": null,
       "padding": null,
       "right": null,
       "top": null,
       "visibility": null,
       "width": null
      }
     },
     "dad0f9da9d5e4727a7f98a86c9a07e83": {
      "model_module": "@jupyter-widgets/base",
      "model_module_version": "1.2.0",
      "model_name": "LayoutModel",
      "state": {
       "_model_module": "@jupyter-widgets/base",
       "_model_module_version": "1.2.0",
       "_model_name": "LayoutModel",
       "_view_count": null,
       "_view_module": "@jupyter-widgets/base",
       "_view_module_version": "1.2.0",
       "_view_name": "LayoutView",
       "align_content": null,
       "align_items": null,
       "align_self": null,
       "border": null,
       "bottom": null,
       "display": null,
       "flex": null,
       "flex_flow": null,
       "grid_area": null,
       "grid_auto_columns": null,
       "grid_auto_flow": null,
       "grid_auto_rows": null,
       "grid_column": null,
       "grid_gap": null,
       "grid_row": null,
       "grid_template_areas": null,
       "grid_template_columns": null,
       "grid_template_rows": null,
       "height": null,
       "justify_content": null,
       "justify_items": null,
       "left": null,
       "margin": null,
       "max_height": null,
       "max_width": null,
       "min_height": null,
       "min_width": null,
       "object_fit": null,
       "object_position": null,
       "order": null,
       "overflow": null,
       "overflow_x": null,
       "overflow_y": null,
       "padding": null,
       "right": null,
       "top": null,
       "visibility": null,
       "width": null
      }
     },
     "de8bd4b75cf345f190a161f296996652": {
      "model_module": "@jupyter-widgets/controls",
      "model_module_version": "1.5.0",
      "model_name": "DescriptionStyleModel",
      "state": {
       "_model_module": "@jupyter-widgets/controls",
       "_model_module_version": "1.5.0",
       "_model_name": "DescriptionStyleModel",
       "_view_count": null,
       "_view_module": "@jupyter-widgets/base",
       "_view_module_version": "1.2.0",
       "_view_name": "StyleView",
       "description_width": ""
      }
     },
     "e08fdc8a1ac345439b494a37343c7367": {
      "model_module": "@jupyter-widgets/controls",
      "model_module_version": "1.5.0",
      "model_name": "HTMLModel",
      "state": {
       "_dom_classes": [],
       "_model_module": "@jupyter-widgets/controls",
       "_model_module_version": "1.5.0",
       "_model_name": "HTMLModel",
       "_view_count": null,
       "_view_module": "@jupyter-widgets/controls",
       "_view_module_version": "1.5.0",
       "_view_name": "HTMLView",
       "description": "",
       "description_tooltip": null,
       "layout": "IPY_MODEL_393b8cd69d8c4101812bb0b9f1144d36",
       "placeholder": "​",
       "style": "IPY_MODEL_a197beeaef5a4d2d8bb47396775a11f2",
       "value": " 1/1 [00:00&lt;00:00, 24.35it/s]"
      }
     },
     "e431a13e2e8945978f73e48f16d83e73": {
      "model_module": "@jupyter-widgets/controls",
      "model_module_version": "1.5.0",
      "model_name": "ProgressStyleModel",
      "state": {
       "_model_module": "@jupyter-widgets/controls",
       "_model_module_version": "1.5.0",
       "_model_name": "ProgressStyleModel",
       "_view_count": null,
       "_view_module": "@jupyter-widgets/base",
       "_view_module_version": "1.2.0",
       "_view_name": "StyleView",
       "bar_color": null,
       "description_width": ""
      }
     },
     "f35f744db380405e8fb3858a4167510b": {
      "model_module": "@jupyter-widgets/base",
      "model_module_version": "1.2.0",
      "model_name": "LayoutModel",
      "state": {
       "_model_module": "@jupyter-widgets/base",
       "_model_module_version": "1.2.0",
       "_model_name": "LayoutModel",
       "_view_count": null,
       "_view_module": "@jupyter-widgets/base",
       "_view_module_version": "1.2.0",
       "_view_name": "LayoutView",
       "align_content": null,
       "align_items": null,
       "align_self": null,
       "border": null,
       "bottom": null,
       "display": null,
       "flex": null,
       "flex_flow": null,
       "grid_area": null,
       "grid_auto_columns": null,
       "grid_auto_flow": null,
       "grid_auto_rows": null,
       "grid_column": null,
       "grid_gap": null,
       "grid_row": null,
       "grid_template_areas": null,
       "grid_template_columns": null,
       "grid_template_rows": null,
       "height": null,
       "justify_content": null,
       "justify_items": null,
       "left": null,
       "margin": null,
       "max_height": null,
       "max_width": null,
       "min_height": null,
       "min_width": null,
       "object_fit": null,
       "object_position": null,
       "order": null,
       "overflow": null,
       "overflow_x": null,
       "overflow_y": null,
       "padding": null,
       "right": null,
       "top": null,
       "visibility": null,
       "width": null
      }
     },
     "faf9142d358f4232a0c2a3f60b1b0e8f": {
      "model_module": "@jupyter-widgets/base",
      "model_module_version": "1.2.0",
      "model_name": "LayoutModel",
      "state": {
       "_model_module": "@jupyter-widgets/base",
       "_model_module_version": "1.2.0",
       "_model_name": "LayoutModel",
       "_view_count": null,
       "_view_module": "@jupyter-widgets/base",
       "_view_module_version": "1.2.0",
       "_view_name": "LayoutView",
       "align_content": null,
       "align_items": null,
       "align_self": null,
       "border": null,
       "bottom": null,
       "display": null,
       "flex": null,
       "flex_flow": null,
       "grid_area": null,
       "grid_auto_columns": null,
       "grid_auto_flow": null,
       "grid_auto_rows": null,
       "grid_column": null,
       "grid_gap": null,
       "grid_row": null,
       "grid_template_areas": null,
       "grid_template_columns": null,
       "grid_template_rows": null,
       "height": null,
       "justify_content": null,
       "justify_items": null,
       "left": null,
       "margin": null,
       "max_height": null,
       "max_width": null,
       "min_height": null,
       "min_width": null,
       "object_fit": null,
       "object_position": null,
       "order": null,
       "overflow": null,
       "overflow_x": null,
       "overflow_y": null,
       "padding": null,
       "right": null,
       "top": null,
       "visibility": null,
       "width": null
      }
     },
     "fe7511d37a1044f1a652e9fb9c404887": {
      "model_module": "@jupyter-widgets/base",
      "model_module_version": "1.2.0",
      "model_name": "LayoutModel",
      "state": {
       "_model_module": "@jupyter-widgets/base",
       "_model_module_version": "1.2.0",
       "_model_name": "LayoutModel",
       "_view_count": null,
       "_view_module": "@jupyter-widgets/base",
       "_view_module_version": "1.2.0",
       "_view_name": "LayoutView",
       "align_content": null,
       "align_items": null,
       "align_self": null,
       "border": null,
       "bottom": null,
       "display": null,
       "flex": null,
       "flex_flow": null,
       "grid_area": null,
       "grid_auto_columns": null,
       "grid_auto_flow": null,
       "grid_auto_rows": null,
       "grid_column": null,
       "grid_gap": null,
       "grid_row": null,
       "grid_template_areas": null,
       "grid_template_columns": null,
       "grid_template_rows": null,
       "height": null,
       "justify_content": null,
       "justify_items": null,
       "left": null,
       "margin": null,
       "max_height": null,
       "max_width": null,
       "min_height": null,
       "min_width": null,
       "object_fit": null,
       "object_position": null,
       "order": null,
       "overflow": null,
       "overflow_x": null,
       "overflow_y": null,
       "padding": null,
       "right": null,
       "top": null,
       "visibility": null,
       "width": null
      }
     },
     "fee0dbb977734d2db6c43d79ee4d3825": {
      "model_module": "@jupyter-widgets/base",
      "model_module_version": "1.2.0",
      "model_name": "LayoutModel",
      "state": {
       "_model_module": "@jupyter-widgets/base",
       "_model_module_version": "1.2.0",
       "_model_name": "LayoutModel",
       "_view_count": null,
       "_view_module": "@jupyter-widgets/base",
       "_view_module_version": "1.2.0",
       "_view_name": "LayoutView",
       "align_content": null,
       "align_items": null,
       "align_self": null,
       "border": null,
       "bottom": null,
       "display": null,
       "flex": null,
       "flex_flow": null,
       "grid_area": null,
       "grid_auto_columns": null,
       "grid_auto_flow": null,
       "grid_auto_rows": null,
       "grid_column": null,
       "grid_gap": null,
       "grid_row": null,
       "grid_template_areas": null,
       "grid_template_columns": null,
       "grid_template_rows": null,
       "height": null,
       "justify_content": null,
       "justify_items": null,
       "left": null,
       "margin": null,
       "max_height": null,
       "max_width": null,
       "min_height": null,
       "min_width": null,
       "object_fit": null,
       "object_position": null,
       "order": null,
       "overflow": null,
       "overflow_x": null,
       "overflow_y": null,
       "padding": null,
       "right": null,
       "top": null,
       "visibility": null,
       "width": null
      }
     }
    },
    "version_major": 2,
    "version_minor": 0
   }
  }
 },
 "nbformat": 4,
 "nbformat_minor": 5
}
